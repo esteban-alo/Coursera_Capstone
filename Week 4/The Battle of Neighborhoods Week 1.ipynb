{
 "cells": [
  {
   "cell_type": "markdown",
   "metadata": {},
   "source": [
    "## The Battle of Neighborhoods - Week 1\n",
    "------"
   ]
  },
  {
   "cell_type": "markdown",
   "metadata": {},
   "source": [
    "### Problem:"
   ]
  },
  {
   "cell_type": "markdown",
   "metadata": {},
   "source": [
    "There is an enthusiastic entrepreneur who wants to create his own coffee shop in the city of Bogotá, Colombia. This person wants to sell his products to people who love coffee and people who want to know his store. \n",
    "\n",
    "To start his business, this person is interested in opening your first store in an area where there is a high volume of people and offices. For this reason he wants to start a study of the locations and possible competitors in the market, that allows him to make a correct decision when opening his first local."
   ]
  },
  {
   "cell_type": "markdown",
   "metadata": {},
   "source": [
    "### Data:"
   ]
  },
  {
   "cell_type": "markdown",
   "metadata": {},
   "source": [
    "#### Location\n",
    "The city that I'm gonna use to this excercise is: ***Bogotá, Colombia***. The information about the locations of this city can be found in Wikipedia following the next link: <https://es.wikipedia.org/wiki/Anexo:Localidades_de_Bogot%C3%A1>\n",
    "\n",
    "#### Data Sets\n",
    "To ***Foursquare API***  will be used to gain the information about the competitors (nearby coffe shops, location, distance, among others). For more information about Foursquare API visit <https://developer.foursquare.com/>\n",
    "\n",
    "#### Libraries\n",
    "- Pandas - Library for Data Analysis\n",
    "- NumPy – Library to handle data in a vectorized manner\n",
    "- JSON – Library to handle JSON files \n",
    "- Folium – Map rendering Library\n",
    "- Matplotlib – Python Plotting Module \n",
    "- Geopy – To retrieve Location Data \n",
    "- Requests – Library to handle http requests\n",
    "- bs4 – Scrapping tool"
   ]
  },
  {
   "cell_type": "code",
   "execution_count": null,
   "metadata": {},
   "outputs": [],
   "source": []
  }
 ],
 "metadata": {
  "kernelspec": {
   "display_name": "Python 3",
   "language": "python",
   "name": "python3"
  },
  "language_info": {
   "codemirror_mode": {
    "name": "ipython",
    "version": 3
   },
   "file_extension": ".py",
   "mimetype": "text/x-python",
   "name": "python",
   "nbconvert_exporter": "python",
   "pygments_lexer": "ipython3",
   "version": "3.7.3"
  }
 },
 "nbformat": 4,
 "nbformat_minor": 2
}
